{
 "cells": [
  {
   "cell_type": "code",
   "execution_count": null,
   "metadata": {},
   "outputs": [],
   "source": []
  },
  {
   "cell_type": "markdown",
   "metadata": {},
   "source": [
    "# Explorando as postagens do Hackers News \n",
    "Neste projeto, compararemos dois tipos diferentes de postagens do Hacker News, um site popular onde histórias relacionadas à tecnologia (ou 'postagens') são votadas e comentadas. Os dois tipos de postagens que exploraremos começam com Ask HN ou Show HN.\n",
    "\n",
    "Os usuários enviam as postagens do Ask HN para fazer uma pergunta específica à comunidade Hacker News, como \"Qual é o melhor curso online que você já fez?\" Da mesma forma, os usuários enviam postagens do Show HN para mostrar à comunidade Hacker News um projeto, produto ou simplesmente algo interessante. \n",
    "\n",
    "Compararemos especificamente esses dois tipos de postagens para determinar o seguinte: \n",
    "* O Ask HN ou o Show HN recebem mais comentários em média? \n",
    "* As postagens criadas em um determinado momento recebem, em média, mais comentários? \n",
    "\n",
    "Deve-se observar que o conjunto de dados com o qual estamos trabalhando foi reduzido de quase 300.000 linhas para aproximadamente 20.000 linhas, removendo todos os envios que não receberam nenhum comentário e, em seguida, amostrando aleatoriamente os envios restantes. \n",
    "\n",
    "# Introdução \n",
    "Primeiro, vamos ler os dados e remover os cabeçalhos."
   ]
  },
  {
   "cell_type": "code",
   "execution_count": 1,
   "metadata": {},
   "outputs": [
    {
     "name": "stdout",
     "output_type": "stream",
     "text": [
      "[['id', 'title', 'url', 'num_points', 'num_comments', 'author', 'created_at'], ['12224879', 'Interactive Dynamic Video', 'http://www.interactivedynamicvideo.com/', '386', '52', 'ne0phyte', '8/4/2016 11:52'], ['10975351', 'How to Use Open Source and Shut the Fuck Up at the Same Time', 'http://hueniverse.com/2016/01/26/how-to-use-open-source-and-shut-the-fuck-up-at-the-same-time/', '39', '10', 'josep2', '1/26/2016 19:30'], ['11964716', \"Florida DJs May Face Felony for April Fools' Water Joke\", 'http://www.thewire.com/entertainment/2013/04/florida-djs-april-fools-water-joke/63798/', '2', '1', 'vezycash', '6/23/2016 22:20'], ['11919867', 'Technology ventures: From Idea to Enterprise', 'https://www.amazon.com/Technology-Ventures-Enterprise-Thomas-Byers/dp/0073523429', '3', '1', 'hswarna', '6/17/2016 0:01']]\n"
     ]
    }
   ],
   "source": [
    "from csv import reader\n",
    "opened_file = open('hacker_news.csv', encoding=\"utf8\")\n",
    "readed_file = reader(opened_file)\n",
    "hn = list(readed_file)\n",
    "print(hn[:5])"
   ]
  },
  {
   "cell_type": "markdown",
   "metadata": {},
   "source": [
    "# Removing Headers from a List of Lists"
   ]
  },
  {
   "cell_type": "code",
   "execution_count": 2,
   "metadata": {},
   "outputs": [
    {
     "name": "stdout",
     "output_type": "stream",
     "text": [
      "['id', 'title', 'url', 'num_points', 'num_comments', 'author', 'created_at']\n"
     ]
    }
   ],
   "source": [
    "headers = hn[0]\n",
    "hn = hn[1:]\n",
    "\n",
    "print(headers)"
   ]
  },
  {
   "cell_type": "markdown",
   "metadata": {},
   "source": [
    "Podemos ver acima que o conjunto de dados contém o título das postagens, o número de comentários de cada postagem e a data em que a postagem foi criada. Vamos começar explorando o número de comentários para cada tipo de postagem.\n",
    "# Extraindo postagens de Ask HN e Show HN \n",
    "Primeiro, identificaremos postagens que começam com Ask HN ou Show HN e separaremos os dados para esses dois tipos de postagens em listas diferentes. A separação dos dados facilita a análise nas etapas a seguir."
   ]
  },
  {
   "cell_type": "code",
   "execution_count": 3,
   "metadata": {},
   "outputs": [
    {
     "name": "stdout",
     "output_type": "stream",
     "text": [
      "1744\n",
      "1162\n",
      "17194\n"
     ]
    }
   ],
   "source": [
    "ask_posts = []\n",
    "show_posts = []\n",
    "other_posts = []\n",
    "\n",
    "for row in hn:\n",
    "    title = row[1]\n",
    "    if title.lower().startswith('ask hn'):\n",
    "        ask_posts.append(row)\n",
    "    elif title.lower().startswith('show hn'):\n",
    "        show_posts.append(row)\n",
    "    else:\n",
    "        other_posts.append(row)\n",
    "\n",
    "print(len(ask_posts))\n",
    "print(len(show_posts))\n",
    "print(len(other_posts))"
   ]
  },
  {
   "cell_type": "markdown",
   "metadata": {},
   "source": [
    "# Calculando o número médio de comentários para Ask HN e Show HN Posts \n",
    "Agora que separamos as postagens de perguntas e mostramos as postagens em listas diferentes, calcularemos o número médio de comentários que cada tipo de postagem recebe."
   ]
  },
  {
   "cell_type": "code",
   "execution_count": 4,
   "metadata": {},
   "outputs": [
    {
     "name": "stdout",
     "output_type": "stream",
     "text": [
      "14.038417431192661\n"
     ]
    }
   ],
   "source": [
    "total_ask_comments = 0\n",
    "for row in ask_posts:\n",
    "    total_ask_comments += int(row[4])\n",
    "\n",
    "avg_ask_comments = total_ask_comments / len(ask_posts)\n",
    "print(avg_ask_comments)"
   ]
  },
  {
   "cell_type": "code",
   "execution_count": 5,
   "metadata": {},
   "outputs": [
    {
     "name": "stdout",
     "output_type": "stream",
     "text": [
      "10.31669535283993\n"
     ]
    }
   ],
   "source": [
    "total_show_comments = 0\n",
    "for row in show_posts:\n",
    "    total_show_comments += int(row[4])\n",
    "\n",
    "avg_show_comments = total_show_comments / len(show_posts)\n",
    "print(avg_show_comments)"
   ]
  },
  {
   "cell_type": "markdown",
   "metadata": {},
   "source": [
    "Em média, as postagens de perguntas em nossa amostra recebem aproximadamente 14 comentários, enquanto as postagens de programas recebem aproximadamente 10. Como as postagens de perguntas têm maior probabilidade de receber comentários, concentraremos nossa análise restante apenas nessas postagens.\n",
    "# Encontrando a quantidade de Ask Posts e Comentários por Hora Criados \n",
    "A seguir, determinaremos se podemos maximizar a quantidade de comentários que um Ask Post recebe criando-o em um determinado momento. Primeiro, encontraremos a quantidade de posts de perguntas criados durante cada hora do dia, junto com o número de comentários que esses posts receberam. Em seguida, calcularemos a quantidade média de comentários que as postagens solicitadas criadas a cada hora do dia recebem."
   ]
  },
  {
   "cell_type": "code",
   "execution_count": 6,
   "metadata": {},
   "outputs": [
    {
     "name": "stdout",
     "output_type": "stream",
     "text": [
      "{'09': 45, '13': 85, '10': 59, '14': 107, '16': 108, '23': 68, '12': 73, '17': 100, '15': 116, '21': 109, '20': 80, '02': 58, '18': 109, '03': 54, '05': 46, '19': 110, '01': 60, '22': 71, '08': 48, '04': 47, '00': 55, '06': 44, '07': 34, '11': 58} \n",
      "\n",
      "{'09': 251, '13': 1253, '10': 793, '14': 1416, '16': 1814, '23': 543, '12': 687, '17': 1146, '15': 4477, '21': 1745, '20': 1722, '02': 1381, '18': 1439, '03': 421, '05': 464, '19': 1188, '01': 683, '22': 479, '08': 492, '04': 337, '00': 447, '06': 397, '07': 267, '11': 641}\n"
     ]
    }
   ],
   "source": [
    "import datetime as dt\n",
    "result_list = []\n",
    "for row in ask_posts:\n",
    "    result_list.append([row[6], int(row[4])])\n",
    "\n",
    "counts_by_hour = {}\n",
    "comments_by_hour = {}\n",
    "date_format = \"%m/%d/%Y %H:%M\"\n",
    "\n",
    "for row in result_list:\n",
    "    date = row[0]\n",
    "    comment = row[1]\n",
    "    hour = dt.datetime.strptime(date, date_format).strftime(\"%H\")\n",
    "    if hour not in counts_by_hour:\n",
    "        counts_by_hour[hour] = 1\n",
    "        comments_by_hour[hour] = comment\n",
    "    else:\n",
    "        counts_by_hour[hour] += 1\n",
    "        comments_by_hour[hour] += comment\n",
    "\n",
    "print(counts_by_hour, '\\n')\n",
    "print(comments_by_hour)"
   ]
  },
  {
   "cell_type": "markdown",
   "metadata": {},
   "source": [
    "# Calculando o número médio de comentários para postagens Ask HN por hora"
   ]
  },
  {
   "cell_type": "code",
   "execution_count": 7,
   "metadata": {},
   "outputs": [
    {
     "data": {
      "text/plain": [
       "[['09', 5.5777777777777775],\n",
       " ['13', 14.741176470588234],\n",
       " ['10', 13.440677966101696],\n",
       " ['14', 13.233644859813085],\n",
       " ['16', 16.796296296296298],\n",
       " ['23', 7.985294117647059],\n",
       " ['12', 9.41095890410959],\n",
       " ['17', 11.46],\n",
       " ['15', 38.5948275862069],\n",
       " ['21', 16.009174311926607],\n",
       " ['20', 21.525],\n",
       " ['02', 23.810344827586206],\n",
       " ['18', 13.20183486238532],\n",
       " ['03', 7.796296296296297],\n",
       " ['05', 10.08695652173913],\n",
       " ['19', 10.8],\n",
       " ['01', 11.383333333333333],\n",
       " ['22', 6.746478873239437],\n",
       " ['08', 10.25],\n",
       " ['04', 7.170212765957447],\n",
       " ['00', 8.127272727272727],\n",
       " ['06', 9.022727272727273],\n",
       " ['07', 7.852941176470588],\n",
       " ['11', 11.051724137931034]]"
      ]
     },
     "execution_count": 7,
     "metadata": {},
     "output_type": "execute_result"
    }
   ],
   "source": [
    "avg_by_hour = []\n",
    "for hour in counts_by_hour:\n",
    "    count = counts_by_hour[hour]\n",
    "    comment = comments_by_hour[hour]\n",
    "    avg_by_hour.append([hour, comment / count])\n",
    "    \n",
    "avg_by_hour"
   ]
  },
  {
   "cell_type": "markdown",
   "metadata": {},
   "source": [
    "# Classificação e impressão de valores de uma lista de listas"
   ]
  },
  {
   "cell_type": "code",
   "execution_count": 8,
   "metadata": {},
   "outputs": [
    {
     "name": "stdout",
     "output_type": "stream",
     "text": [
      "[[5.5777777777777775, '09'], [14.741176470588234, '13'], [13.440677966101696, '10'], [13.233644859813085, '14'], [16.796296296296298, '16'], [7.985294117647059, '23'], [9.41095890410959, '12'], [11.46, '17'], [38.5948275862069, '15'], [16.009174311926607, '21'], [21.525, '20'], [23.810344827586206, '02'], [13.20183486238532, '18'], [7.796296296296297, '03'], [10.08695652173913, '05'], [10.8, '19'], [11.383333333333333, '01'], [6.746478873239437, '22'], [10.25, '08'], [7.170212765957447, '04'], [8.127272727272727, '00'], [9.022727272727273, '06'], [7.852941176470588, '07'], [11.051724137931034, '11']]\n"
     ]
    }
   ],
   "source": [
    "#Invertendo chave e valor do dicionario para poder ordenar pela média de comentários por hora\n",
    "swap_avg_by_hour = []\n",
    "for row in avg_by_hour:\n",
    "    swap_avg_by_hour.append([row[1], row[0]])\n",
    "    \n",
    "print(swap_avg_by_hour)"
   ]
  },
  {
   "cell_type": "code",
   "execution_count": 9,
   "metadata": {},
   "outputs": [
    {
     "name": "stdout",
     "output_type": "stream",
     "text": [
      "Top 5 Horas para comentários em posts de perguntas\n",
      "15:00: 38.59% média de comentários por post\n",
      "02:00: 23.81% média de comentários por post\n",
      "20:00: 21.52% média de comentários por post\n",
      "16:00: 16.80% média de comentários por post\n",
      "21:00: 16.01% média de comentários por post\n"
     ]
    }
   ],
   "source": [
    "sorted_swap = sorted(swap_avg_by_hour, reverse=True)\n",
    "date_format = \"%H\"\n",
    "\n",
    "print(\"Top 5 Horas para comentários em posts de perguntas\")\n",
    "for row in sorted_swap[:5]:\n",
    "    hour = dt.datetime.strptime(row[1], date_format).strftime(\"%H:%M\")\n",
    "    print('{}: {:.2f}% média de comentários por post'.format(hour, row[0]))"
   ]
  },
  {
   "cell_type": "markdown",
   "metadata": {},
   "source": [
    "A hora que recebe mais comentários por postagem em média é 15h, com uma média de 38,59 comentários por postagem. Há um aumento de cerca de 60% no número de comentários entre as horas com o maior e o segundo maior número médio de comentários. \n",
    "\n",
    "De acordo com a documentação do conjunto de dados, o fuso horário usado é o horário do leste dos EUA. Portanto, também poderíamos escrever 15:00 como 15:00 est. \n",
    "# Conclusão \n",
    "Neste projeto, analisamos as postagens de perguntar e mostrar as postagens para determinar que tipo de postagem e horário recebem mais comentários em média. Com base em nossa análise, para maximizar a quantidade de comentários que uma postagem recebe, recomendamos que a postagem seja categorizada como ask post e criada entre 15h00 e 16h00 (15h00 est - 16h00 est). \n",
    "\n",
    "No entanto, deve-se notar que o conjunto de dados que analisamos excluiu postagens sem quaisquer comentários. Sendo assim, é mais correto dizer que das postagens que receberam comentários, as postagens de perguntas receberam mais comentários em média e as postagens de perguntas criadas entre 15h e 16h (15h00 est - 16h00 est) receberam o a maioria dos comentários, em média."
   ]
  },
  {
   "cell_type": "code",
   "execution_count": null,
   "metadata": {},
   "outputs": [],
   "source": []
  }
 ],
 "metadata": {
  "kernelspec": {
   "display_name": "Python 3",
   "language": "python",
   "name": "python3"
  },
  "language_info": {
   "codemirror_mode": {
    "name": "ipython",
    "version": 3
   },
   "file_extension": ".py",
   "mimetype": "text/x-python",
   "name": "python",
   "nbconvert_exporter": "python",
   "pygments_lexer": "ipython3",
   "version": "3.8.3"
  }
 },
 "nbformat": 4,
 "nbformat_minor": 4
}
